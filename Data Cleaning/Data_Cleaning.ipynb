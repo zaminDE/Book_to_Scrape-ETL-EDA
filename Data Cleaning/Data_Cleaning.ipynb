{
 "cells": [
  {
   "cell_type": "code",
   "execution_count": 1,
   "metadata": {},
   "outputs": [],
   "source": [
    "import pandas as pd"
   ]
  },
  {
   "cell_type": "code",
   "execution_count": 2,
   "metadata": {},
   "outputs": [],
   "source": [
    "df =pd.read_csv('booksdata.csv')\n",
    "df['Price'] = df['Price'].replace('£', '', regex=True).astype(float)"
   ]
  },
  {
   "cell_type": "code",
   "execution_count": 3,
   "metadata": {},
   "outputs": [
    {
     "name": "stderr",
     "output_type": "stream",
     "text": [
      "C:\\Users\\learning\\AppData\\Local\\Temp\\ipykernel_1676\\1515004717.py:1: FutureWarning: Downcasting behavior in `replace` is deprecated and will be removed in a future version. To retain the old behavior, explicitly call `result.infer_objects(copy=False)`. To opt-in to the future behavior, set `pd.set_option('future.no_silent_downcasting', True)`\n",
      "  df['Rating'] = df['Rating'].replace({'One': 1, 'Two': 2, 'Three': 3, 'Four': 4, 'Five': 5}).astype(float)\n"
     ]
    }
   ],
   "source": [
    "df['Rating'] = df['Rating'].replace({'One': 1, 'Two': 2, 'Three': 3, 'Four': 4, 'Five': 5}).astype(float)"
   ]
  },
  {
   "cell_type": "code",
   "execution_count": 4,
   "metadata": {},
   "outputs": [
    {
     "name": "stdout",
     "output_type": "stream",
     "text": [
      "Cleaned data has been saved to 'cleaned_books.csv'.\n"
     ]
    }
   ],
   "source": [
    "df.to_csv('cleaned_books.csv', index=False)\n",
    "\n",
    "print(\"Cleaned data has been saved to 'cleaned_books.csv'.\")"
   ]
  }
 ],
 "metadata": {
  "kernelspec": {
   "display_name": "base",
   "language": "python",
   "name": "python3"
  },
  "language_info": {
   "codemirror_mode": {
    "name": "ipython",
    "version": 3
   },
   "file_extension": ".py",
   "mimetype": "text/x-python",
   "name": "python",
   "nbconvert_exporter": "python",
   "pygments_lexer": "ipython3",
   "version": "3.12.7"
  }
 },
 "nbformat": 4,
 "nbformat_minor": 2
}
